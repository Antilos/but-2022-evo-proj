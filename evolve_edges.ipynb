{
 "cells": [
  {
   "cell_type": "code",
   "execution_count": 22,
   "metadata": {},
   "outputs": [],
   "source": [
    "import numpy as np\n",
    "import pandas as pd\n",
    "import matplotlib.pyplot as plt\n",
    "import pygad\n",
    "\n",
    "import itertools\n",
    "import random\n",
    "\n",
    "from graph import Graph\n",
    "from graphParser import parseGraph"
   ]
  },
  {
   "cell_type": "code",
   "execution_count": 23,
   "metadata": {},
   "outputs": [],
   "source": [
    "# Load graph\n",
    "from os.path import join\n",
    "graph_in = \"1-FullIns_3.col\"\n",
    "graph = parseGraph(join(\"graphs/\", graph_in), delimiter=\" \", skiprows=5)"
   ]
  },
  {
   "cell_type": "code",
   "execution_count": 24,
   "metadata": {},
   "outputs": [],
   "source": [
    "#Fitness\n",
    "def conflict_fitness(solution, solution_idx):\n",
    "    #update graph\n",
    "    graph.set_edge_colors(solution)\n",
    "\n",
    "    # compute the number of ajacent vertices that share a color\n",
    "    incorrect_verteces = 0\n",
    "    for v1, v2 in graph.get_adjacent_vertices():\n",
    "        if graph.get_edge_color(v1) == graph.get_edge_color(v2):\n",
    "            incorrect_verteces += 1\n",
    "\n",
    "    return 1.0 / (incorrect_verteces + 1)\n",
    "\n",
    "def conflict_ratio_fitness(solution, solution_idx):\n",
    "    graph.set_edge_colors(solution)\n",
    "    return 1 - graph.num_edge_conflicts() / graph.num_edges\n",
    "\n",
    "def optimizing_conflict_fitness(solution, solution_idx):\n",
    "    graph.set_edge_colors(solution)\n",
    "    num_conflicts = graph.num_edge_conflicts()\n",
    "    if num_conflicts == 0:\n",
    "        return 1 + (graph.num_edges - len(set(solution)))\n",
    "    else:\n",
    "        return 1 - num_conflicts / graph.num_edges\n",
    "\n",
    "from math import exp\n",
    "def optimizing_exp_conflict_fitness(solution, solution_idx):\n",
    "    graph.set_edge_colors(solution)\n",
    "    num_conflicts = graph.num_edge_conflicts()\n",
    "    if num_conflicts == 0:\n",
    "        return 1 + exp(graph.num_edges - len(set(solution)))\n",
    "    else:\n",
    "        return 1 - num_conflicts / graph.num_edges"
   ]
  },
  {
   "cell_type": "code",
   "execution_count": 25,
   "metadata": {},
   "outputs": [],
   "source": [
    "def mutate_conflicted_edges(offspring, ga_instance):\n",
    "    for chromosome_idx in range(offspring.shape[0]):\n",
    "        # find vertices that are in conflict\n",
    "        graph.set_edge_colors(offspring[chromosome_idx, :])\n",
    "\n",
    "        conflicts = graph.get_edges_in_conflict()\n",
    "\n",
    "        for e_idx in conflicts:\n",
    "            if random.random() <= ga_instance.mutation_probability:\n",
    "                offspring[chromosome_idx, e_idx] = random.choice(ga_instance.gene_space)\n",
    "    \n",
    "    return offspring\n",
    "\n",
    "def mutate_anealing(offspring, ga_instance):\n",
    "    global temp\n",
    "    for chromoseme_idx in range(offspring.shape[0]):\n",
    "        graph.set_edge_colors(offspring[chromoseme_idx, :])\n",
    "        conflicts = graph.get_edges_in_conflict()\n",
    "\n",
    "        for i, v in enumerate(offspring[chromoseme_idx, :]):\n",
    "            if v in conflicts:\n",
    "                if random.random() <= ga_instance.mutation_probability:\n",
    "                    offspring[chromoseme_idx, i] = random.choice(ga_instance.gene_space)\n",
    "            else:\n",
    "                if random.random() <= ga_instance.mutation_probability / (ga_instance.generations_completed + 1):\n",
    "                    offspring[chromoseme_idx, i] = random.choice(ga_instance.gene_space)\n",
    "    \n",
    "    return offspring\n",
    "\n",
    "def mutate_edges(offspring, ga_instance):\n",
    "    for chromoseme_idx in range(offspring.shape[0]):\n",
    "        for i, v in enumerate(offspring[chromoseme_idx, :]):\n",
    "            if random.random() <= ga_instance.mutation_probability:\n",
    "                offspring[chromoseme_idx, i] = random.choice(ga_instance.gene_space)\n",
    "    \n",
    "    return offspring"
   ]
  },
  {
   "cell_type": "code",
   "execution_count": 26,
   "metadata": {},
   "outputs": [],
   "source": [
    "# Crossover\n",
    "def uncoflicted_crossover(parents, offspring_size, ga_instance):\n",
    "    offspring = []\n",
    "    idx = 0\n",
    "    while len(offspring) != offspring_size[0]:\n",
    "        if not (ga_instance.crossover_probability is None):\n",
    "            probs = np.random.random(size=parents.shape[0])\n",
    "            indices = np.where(probs <= ga_instance.crossover_probability)[0]\n",
    "            # If no parent satisfied the probability, no crossover is applied and a parent is selected.\n",
    "            if len(indices) == 0:\n",
    "                # print(f'DEBUG: {parents[idx % parents.shape[0], :]}')\n",
    "                offspring.append(parents[idx % parents.shape[0], :])\n",
    "                continue\n",
    "            elif len(indices) == 1:\n",
    "                parent1_idx = indices[0]\n",
    "                parent2_idx = parent1_idx\n",
    "            else:\n",
    "                indices = random.sample(set(indices), 2)\n",
    "                parent1_idx = indices[0]\n",
    "                parent2_idx = indices[1]\n",
    "        else:\n",
    "            parent1_idx = idx % parents.shape[0]\n",
    "            parent2_idx = (idx + 1) % parents.shape[0]\n",
    "\n",
    "        parent1 = parents[parent1_idx, :].copy()\n",
    "        parent2 = parents[parent2_idx, :].copy()\n",
    "\n",
    "        # random_split_point = np.random.choice(range(offspring_size[0]))\n",
    "        graph.set_edge_colors(parent1)\n",
    "        conflicts = graph.get_edges_in_conflict()\n",
    "\n",
    "        parent1[conflicts] = parent2[conflicts]\n",
    "\n",
    "        offspring.append(parent1)\n",
    "\n",
    "        idx += 1\n",
    "    \n",
    "    return np.array(offspring)"
   ]
  },
  {
   "cell_type": "code",
   "execution_count": 27,
   "metadata": {},
   "outputs": [],
   "source": [
    "last_fitness = 0\n",
    "def callback_generation(ga_instance):\n",
    "    global last_fitness\n",
    "    change = ga_instance.best_solution()[1] - last_fitness\n",
    "    # print(\"Generation = {generation}\".format(generation=ga_instance.generations_completed))\n",
    "    if change > 0:\n",
    "        print(\"Generation = {generation}\".format(generation=ga_instance.generations_completed))\n",
    "        print(\"Fitness    = {fitness}\".format(fitness=ga_instance.best_solution()[1]))\n",
    "        print(\"Change     = {change}\".format(change=change))\n",
    "    last_fitness = ga_instance.best_solution()[1]\n",
    "\n",
    "def callback_stop(ga_instance, fitnesses):\n",
    "    global last_fitness\n",
    "    last_fitness = 0\n",
    "\n",
    "def callback_start(ga_instance):\n",
    "    print(\"on_start()\")\n",
    "\n",
    "def callback_fitness(ga_instance, population_fitness):\n",
    "    print(\"on_fitness()\")\n",
    "\n",
    "def callback_parents(ga_instance, selected_parents):\n",
    "    print(\"on_parents()\")\n",
    "\n",
    "def callback_crossover(ga_instance, offspring_crossover):\n",
    "    print(\"on_crossover()\")\n",
    "\n",
    "def callback_mutation(ga_instance, offspring_mutation):\n",
    "    print(\"on_mutation()\")\n"
   ]
  },
  {
   "cell_type": "code",
   "execution_count": 28,
   "metadata": {},
   "outputs": [],
   "source": [
    "experiment_name = f\"{graph_in}_annealing_optim_1.0.0\"\n",
    "num_generations = 100\n",
    "ga_args = {\n",
    "    \"num_generations\":num_generations,\n",
    "    \"num_parents_mating\":10,\n",
    "    \"fitness_func\":optimizing_conflict_fitness,\n",
    "    \"crossover_type\":uncoflicted_crossover,\n",
    "    \"mutation_type\":mutate_anealing,\n",
    "    \"mutation_probability\":0.8,\n",
    "    \"crossover_probability\":0.2,\n",
    "    \"keep_parents\":True,\n",
    "    \"sol_per_pop\":100, \n",
    "    \"num_genes\":graph.num_edges,\n",
    "    \"gene_type\":int,\n",
    "    \"gene_space\":range(0, graph.num_edges),\n",
    "    \"on_generation\":None,\n",
    "    \"on_stop\":callback_stop,\n",
    "    \"stop_criteria\":[\"saturate_20\"]\n",
    "}"
   ]
  },
  {
   "cell_type": "code",
   "execution_count": 29,
   "metadata": {},
   "outputs": [
    {
     "name": "stderr",
     "output_type": "stream",
     "text": [
      "C:\\Users\\jakko\\AppData\\Local\\Temp\\ipykernel_2948\\4056813357.py:18: DeprecationWarning: Sampling from a set deprecated\n",
      "since Python 3.9 and will be removed in a subsequent version.\n",
      "  indices = random.sample(set(indices), 2)\n"
     ]
    },
    {
     "ename": "TypeError",
     "evalue": "an integer is required",
     "output_type": "error",
     "traceback": [
      "\u001b[1;31m---------------------------------------------------------------------------\u001b[0m",
      "\u001b[1;31mTypeError\u001b[0m                                 Traceback (most recent call last)",
      "\u001b[1;32mc:\\Users\\jakko\\DocsWrapper\\Schoolwork\\EVO\\proj\\evolve_edges.ipynb Cell 8'\u001b[0m in \u001b[0;36m<cell line: 16>\u001b[1;34m()\u001b[0m\n\u001b[0;32m     <a href='vscode-notebook-cell:/c%3A/Users/jakko/DocsWrapper/Schoolwork/EVO/proj/evolve_edges.ipynb#ch0000007?line=16'>17</a>\u001b[0m T1 \u001b[39m=\u001b[39m time\u001b[39m.\u001b[39mtime()\n\u001b[0;32m     <a href='vscode-notebook-cell:/c%3A/Users/jakko/DocsWrapper/Schoolwork/EVO/proj/evolve_edges.ipynb#ch0000007?line=17'>18</a>\u001b[0m ga_instance \u001b[39m=\u001b[39m pygad\u001b[39m.\u001b[39mGA(\u001b[39m*\u001b[39m\u001b[39m*\u001b[39mga_args)\n\u001b[1;32m---> <a href='vscode-notebook-cell:/c%3A/Users/jakko/DocsWrapper/Schoolwork/EVO/proj/evolve_edges.ipynb#ch0000007?line=18'>19</a>\u001b[0m ga_instance\u001b[39m.\u001b[39;49mrun()\n\u001b[0;32m     <a href='vscode-notebook-cell:/c%3A/Users/jakko/DocsWrapper/Schoolwork/EVO/proj/evolve_edges.ipynb#ch0000007?line=19'>20</a>\u001b[0m T2 \u001b[39m=\u001b[39m time\u001b[39m.\u001b[39mtime()\n\u001b[0;32m     <a href='vscode-notebook-cell:/c%3A/Users/jakko/DocsWrapper/Schoolwork/EVO/proj/evolve_edges.ipynb#ch0000007?line=21'>22</a>\u001b[0m solution, solution_fitness, solution_idx \u001b[39m=\u001b[39m ga_instance\u001b[39m.\u001b[39mbest_solution()\n",
      "File \u001b[1;32mc:\\Users\\jakko\\Anaconda3\\envs\\evo\\lib\\site-packages\\pygad\\pygad.py:1260\u001b[0m, in \u001b[0;36mGA.run\u001b[1;34m(self)\u001b[0m\n\u001b[0;32m   <a href='file:///c%3A/Users/jakko/Anaconda3/envs/evo/lib/site-packages/pygad/pygad.py?line=1257'>1258</a>\u001b[0m     \u001b[39mself\u001b[39m\u001b[39m.\u001b[39mpopulation[\u001b[39mself\u001b[39m\u001b[39m.\u001b[39mlast_generation_parents\u001b[39m.\u001b[39mshape[\u001b[39m0\u001b[39m]:, :] \u001b[39m=\u001b[39m \u001b[39mself\u001b[39m\u001b[39m.\u001b[39mlast_generation_offspring_mutation\n\u001b[0;32m   <a href='file:///c%3A/Users/jakko/Anaconda3/envs/evo/lib/site-packages/pygad/pygad.py?line=1258'>1259</a>\u001b[0m \u001b[39melif\u001b[39;00m (\u001b[39mself\u001b[39m\u001b[39m.\u001b[39mkeep_parents \u001b[39m>\u001b[39m \u001b[39m0\u001b[39m):\n\u001b[1;32m-> <a href='file:///c%3A/Users/jakko/Anaconda3/envs/evo/lib/site-packages/pygad/pygad.py?line=1259'>1260</a>\u001b[0m     parents_to_keep, _ \u001b[39m=\u001b[39m \u001b[39mself\u001b[39;49m\u001b[39m.\u001b[39;49msteady_state_selection(\u001b[39mself\u001b[39;49m\u001b[39m.\u001b[39;49mlast_generation_fitness, num_parents\u001b[39m=\u001b[39;49m\u001b[39mself\u001b[39;49m\u001b[39m.\u001b[39;49mkeep_parents)\n\u001b[0;32m   <a href='file:///c%3A/Users/jakko/Anaconda3/envs/evo/lib/site-packages/pygad/pygad.py?line=1260'>1261</a>\u001b[0m     \u001b[39mself\u001b[39m\u001b[39m.\u001b[39mpopulation[\u001b[39m0\u001b[39m:parents_to_keep\u001b[39m.\u001b[39mshape[\u001b[39m0\u001b[39m], :] \u001b[39m=\u001b[39m parents_to_keep\n\u001b[0;32m   <a href='file:///c%3A/Users/jakko/Anaconda3/envs/evo/lib/site-packages/pygad/pygad.py?line=1261'>1262</a>\u001b[0m     \u001b[39mself\u001b[39m\u001b[39m.\u001b[39mpopulation[parents_to_keep\u001b[39m.\u001b[39mshape[\u001b[39m0\u001b[39m]:, :] \u001b[39m=\u001b[39m \u001b[39mself\u001b[39m\u001b[39m.\u001b[39mlast_generation_offspring_mutation\n",
      "File \u001b[1;32mc:\\Users\\jakko\\Anaconda3\\envs\\evo\\lib\\site-packages\\pygad\\pygad.py:1342\u001b[0m, in \u001b[0;36mGA.steady_state_selection\u001b[1;34m(self, fitness, num_parents)\u001b[0m\n\u001b[0;32m   <a href='file:///c%3A/Users/jakko/Anaconda3/envs/evo/lib/site-packages/pygad/pygad.py?line=1339'>1340</a>\u001b[0m \u001b[39m# Selecting the best individuals in the current generation as parents for producing the offspring of the next generation.\u001b[39;00m\n\u001b[0;32m   <a href='file:///c%3A/Users/jakko/Anaconda3/envs/evo/lib/site-packages/pygad/pygad.py?line=1340'>1341</a>\u001b[0m \u001b[39mif\u001b[39;00m \u001b[39mself\u001b[39m\u001b[39m.\u001b[39mgene_type_single \u001b[39m==\u001b[39m \u001b[39mTrue\u001b[39;00m:\n\u001b[1;32m-> <a href='file:///c%3A/Users/jakko/Anaconda3/envs/evo/lib/site-packages/pygad/pygad.py?line=1341'>1342</a>\u001b[0m     parents \u001b[39m=\u001b[39m numpy\u001b[39m.\u001b[39;49mempty((num_parents, \u001b[39mself\u001b[39;49m\u001b[39m.\u001b[39;49mpopulation\u001b[39m.\u001b[39;49mshape[\u001b[39m1\u001b[39;49m]), dtype\u001b[39m=\u001b[39;49m\u001b[39mself\u001b[39;49m\u001b[39m.\u001b[39;49mgene_type[\u001b[39m0\u001b[39;49m])\n\u001b[0;32m   <a href='file:///c%3A/Users/jakko/Anaconda3/envs/evo/lib/site-packages/pygad/pygad.py?line=1342'>1343</a>\u001b[0m \u001b[39melse\u001b[39;00m:\n\u001b[0;32m   <a href='file:///c%3A/Users/jakko/Anaconda3/envs/evo/lib/site-packages/pygad/pygad.py?line=1343'>1344</a>\u001b[0m     parents \u001b[39m=\u001b[39m numpy\u001b[39m.\u001b[39mempty((num_parents, \u001b[39mself\u001b[39m\u001b[39m.\u001b[39mpopulation\u001b[39m.\u001b[39mshape[\u001b[39m1\u001b[39m]), dtype\u001b[39m=\u001b[39m\u001b[39mobject\u001b[39m)\n",
      "\u001b[1;31mTypeError\u001b[0m: an integer is required"
     ]
    }
   ],
   "source": [
    "runs = 100\n",
    "\n",
    "best_solutions = []\n",
    "best_solutions_fitnesses = []\n",
    "fitness_developments_raw = []\n",
    "best_solution_generations = []\n",
    "\n",
    "# ga_args[\"on_start\"] = callback_start\n",
    "# ga_args[\"on_fitness\"] = callback_fitness\n",
    "# ga_args[\"on_parents\"] = callback_parents\n",
    "# ga_args[\"on_crossover\"] = callback_crossover\n",
    "# ga_args[\"on_mutation\"] = callback_mutation\n",
    "# ga_args[\"on_generation\"] = callback_generation\n",
    "\n",
    "import time\n",
    "for run in range(runs):\n",
    "    T1 = time.time()\n",
    "    ga_instance = pygad.GA(**ga_args)\n",
    "    ga_instance.run()\n",
    "    T2 = time.time()\n",
    "\n",
    "    solution, solution_fitness, solution_idx = ga_instance.best_solution()\n",
    "\n",
    "    best_solutions.append(solution)\n",
    "    best_solutions_fitnesses.append(solution_fitness)\n",
    "    # print(len(ga_instance.best_solutions_fitness))\n",
    "    # print(ga_instance.best_solutions_fitness)\n",
    "    fitness_developments_raw.append(ga_instance.best_solutions_fitness)\n",
    "    best_solution_generations.append(ga_instance.best_solution_generation)\n",
    "\n",
    "    print(f\"{run=} T={T2-T1} | Best Fitness={solution_fitness}\")"
   ]
  },
  {
   "cell_type": "code",
   "execution_count": null,
   "metadata": {},
   "outputs": [],
   "source": [
    "#pad fitnesses in runs that ended early\n",
    "from copy import deepcopy\n",
    "fitness_developments = deepcopy(fitness_developments_raw)\n",
    "for i, x in enumerate(fitness_developments):\n",
    "    if (x_len := len(x)) < num_generations + 1:\n",
    "        # print(f\"{i=} {len(x)}\")\n",
    "        # print(f\"{i=} {len(x + [x[-1]] * ((num_generations + 1) - x_len))}\")\n",
    "        x = x + [x[-1]] * (num_generations + 1 - x_len)\n",
    "        fitness_developments[i] = x\n",
    "\n",
    "def update_graph_count_conflicts (g, sol):\n",
    "            g.set_edge_colors(sol)\n",
    "            return len(g.get_edges_in_conflict())\n",
    "\n",
    "df = pd.DataFrame(\n",
    "    {\n",
    "        \"generation\":best_solution_generations,\n",
    "        \"fitness\": best_solutions_fitnesses,\n",
    "        \"conflicts\": [update_graph_count_conflicts(graph, solution) for solution in best_solutions],\n",
    "        \"num_colors\":[len(set(solution)) for solution in best_solutions]\n",
    "    }\n",
    ")\n",
    "\n",
    "df[\"conflict_ratio\"] = df[\"conflicts\"] / graph.num_vertices\n",
    "df[\"solution_found\"] = df[\"fitness\"] == 1\n",
    "df[\"solution_not_in_init_pop\"] = df[\"generation\"] != 1"
   ]
  },
  {
   "cell_type": "code",
   "execution_count": null,
   "metadata": {},
   "outputs": [
    {
     "name": "stdout",
     "output_type": "stream",
     "text": [
      "Graph: |V|=30, |E|=100\n",
      "Solution found in 0.0% runs\n",
      "Conflicts: mean=1.95, std=1.104398917826783, mean ratio to vertices=0.06499999999999999\n",
      "Colors: mean=65.76, std=2.648117303392214\n"
     ]
    },
    {
     "data": {
      "image/png": "[encoded data removed]",
      "text/plain": [
       "<Figure size 432x288 with 1 Axes>"
      ]
     },
     "metadata": {
      "needs_background": "light"
     },
     "output_type": "display_data"
    }
   ],
   "source": [
    "solution_count = df[df[\"solution_found\"]].shape[0]\n",
    "print(f\"Graph: |V|={graph.num_vertices}, |E|={graph.num_edges}\")\n",
    "print(f\"Solution found in {solution_count/runs * 100}% runs\")\n",
    "print(f\"Conflicts: mean={df['conflicts'].mean()}, std={df['conflicts'].std()}, mean ratio to vertices={df['conflict_ratio'].mean()}\")\n",
    "print(f\"Colors: mean={df['num_colors'].mean()}, std={df['num_colors'].std()}\")\n",
    "\n",
    "# Plot fitness\n",
    "fitness_developments = np.array(fitness_developments)\n",
    "\n",
    "# print(fitness_developments)\n",
    "_ = plt.plot(range(1, num_generations+1+1), fitness_developments.T.mean(axis=-1))"
   ]
  },
  {
   "cell_type": "code",
   "execution_count": null,
   "metadata": {},
   "outputs": [
    {
     "data": {
      "image/png": "[encoded data removed]",
      "text/plain": [
       "<Figure size 432x288 with 1 Axes>"
      ]
     },
     "metadata": {
      "needs_background": "light"
     },
     "output_type": "display_data"
    }
   ],
   "source": [
    "#save data\n",
    "import os\n",
    "import json\n",
    "import csv\n",
    "\n",
    "\n",
    "experiment_dir = f\"./experiments_edge_manual/{experiment_name}\"\n",
    "if not os.path.exists(experiment_dir):\n",
    "    os.mkdir(experiment_dir)\n",
    "\n",
    "params_fout_name = f\"{experiment_name}_parameters.json\"\n",
    "results_fout_name = f\"{experiment_name}_results.txt\"\n",
    "df_fout_name = f\"{experiment_name}_data.csv\"\n",
    "fit_fout_name = f\"{experiment_name}_fitness\"\n",
    "fit_plot_fout_name = f\"{experiment_name}_mean_fit.png\"\n",
    "\n",
    "with open(os.path.join(experiment_dir, params_fout_name), 'w') as fout:\n",
    "    serializable_args = {k : str(v) for k, v in ga_args.items()}\n",
    "    serializable_args['runs'] = runs\n",
    "    fout.write(json.dumps(serializable_args))\n",
    "with open(os.path.join(experiment_dir, results_fout_name), 'w') as fout:\n",
    "    solution_count = df[df[\"solution_found\"]].shape[0]\n",
    "    fout.write(f\"Graph: |V|={graph.num_vertices}, |E|={graph.num_edges}\\n\")\n",
    "    fout.write(f\"Solution found in {solution_count/runs * 100}% runs\\n\")\n",
    "    fout.write(f\"Conflicts: mean={df['conflicts'].mean()}, std={df['conflicts'].std()}, mean ratio to vertices={df['conflict_ratio'].mean()}\\n\")\n",
    "    fout.write(f\"Colors: mean={df['num_colors'].mean()}, std={df['num_colors'].std()}\\n\")\n",
    "    fout.write(f\"{df.describe()}\")\n",
    "with open(os.path.join(experiment_dir, df_fout_name), 'w') as fout:\n",
    "    df.to_csv(fout)\n",
    "with open(os.path.join(experiment_dir, fit_fout_name), 'w') as fout:\n",
    "    wr = csv.writer(fout)\n",
    "    wr.writerows(fitness_developments)\n",
    "\n",
    "# Plots\n",
    "fig, ax = plt.subplots()\n",
    "\n",
    "fitness_developments = np.array(fitness_developments)\n",
    "ax.set(title='Mean fitness through runs', xlabel='Generation', ylabel='Fitness')\n",
    "_ = ax.plot(range(1, num_generations+1+1), fitness_developments.T.mean(axis=-1))\n",
    "\n",
    "fig.savefig(os.path.join(experiment_dir, fit_plot_fout_name))"
   ]
  }
 ],
 "metadata": {
  "interpreter": {
   "hash": "29675b7690afb191f62bcacca8034eafb70a290a5f108edebda2f74847821f89"
  },
  "kernelspec": {
   "display_name": "Python 3.10.4 ('evo')",
   "language": "python",
   "name": "python3"
  },
  "language_info": {
   "codemirror_mode": {
    "name": "ipython",
    "version": 3
   },
   "file_extension": ".py",
   "mimetype": "text/x-python",
   "name": "python",
   "nbconvert_exporter": "python",
   "pygments_lexer": "ipython3",
   "version": "3.10.4"
  },
  "orig_nbformat": 4
 },
 "nbformat": 4,
 "nbformat_minor": 2
}
