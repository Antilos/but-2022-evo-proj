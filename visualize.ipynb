{
 "cells": [
  {
   "cell_type": "code",
   "execution_count": 5,
   "metadata": {},
   "outputs": [],
   "source": [
    "import numpy as np\n",
    "import pandas as pd\n",
    "import matplotlib.pyplot as plt\n",
    "import seaborn as sns\n",
    "\n",
    "import os"
   ]
  },
  {
   "cell_type": "code",
   "execution_count": 21,
   "metadata": {},
   "outputs": [],
   "source": [
    "exp_dir = \"./experiments_manual/\"\n",
    "naive_exp = \"1-FullIns_4.col_naive_optim_1.1.0\"\n",
    "custom_exp = \"1-FullIns_4.col_custom_optim_1.1.0\"\n",
    "anealing_exp = \"1-FullIns_4.col_anealing_optim_1.1.0\"\n"
   ]
  },
  {
   "cell_type": "code",
   "execution_count": 22,
   "metadata": {},
   "outputs": [],
   "source": [
    "def join_dfs(dfs:list, df_names:list, target=str):\n",
    "    if len(dfs) != len(df_names):\n",
    "        raise ValueError\n",
    "    \n",
    "    result = pd.DataFrame()\n",
    "    for name, df in zip(df_names, dfs):\n",
    "        result[name] = df[target]\n",
    "\n",
    "    return result"
   ]
  },
  {
   "cell_type": "code",
   "execution_count": 23,
   "metadata": {},
   "outputs": [
    {
     "name": "stdout",
     "output_type": "stream",
     "text": [
      "<class 'pandas.core.frame.DataFrame'>\n",
      "Mean Fitness\n",
      "naive        6.536022\n",
      "custom      38.150000\n",
      "anealing    65.390000\n",
      "dtype: float64 \n",
      "\n",
      "Mean conflicts\n",
      "naive       2.23\n",
      "custom      0.00\n",
      "anealing    0.00\n",
      "dtype: float64 \n",
      "\n",
      "Solution Found\n",
      "naive       0.17\n",
      "custom      1.00\n",
      "anealing    1.00\n",
      "dtype: float64 \n",
      "\n",
      "Mean Best Generation\n",
      "naive       10.52\n",
      "custom       0.99\n",
      "anealing    76.59\n",
      "dtype: float64\n"
     ]
    }
   ],
   "source": [
    "with open(os.path.join(exp_dir, naive_exp, f\"{naive_exp}_data.csv\")) as fin:\n",
    "    naive_df = pd.read_csv(fin)\n",
    "with open(os.path.join(exp_dir, custom_exp, f\"{custom_exp}_data.csv\")) as fin:\n",
    "    custom_df = pd.read_csv(fin)\n",
    "with open(os.path.join(exp_dir, anealing_exp, f\"{anealing_exp}_data.csv\")) as fin:\n",
    "    anealing_df = pd.read_csv(fin)\n",
    "\n",
    "# df_fitness = pd.DataFrame()\n",
    "# df_fitness[\"naive\"] = naive_df[\"fitness\"]\n",
    "# df_fitness[\"custom\"] = custom_df[\"fitness\"]\n",
    "dfs = [naive_df, custom_df, anealing_df]\n",
    "df_names = [\"naive\", \"custom\", \"anealing\"]\n",
    "from functools import partial\n",
    "join = partial(join_dfs, dfs=dfs, df_names=df_names)\n",
    "\n",
    "df_fitness = join(target=\"fitness\")\n",
    "print(type(df_fitness))\n",
    "df_conflicts = join(target=\"conflicts\")\n",
    "df_solution = join(target=\"solution_found\")\n",
    "df_best_generation = join(target=\"generation\")\n",
    "\n",
    "print(\"Mean Fitness\")\n",
    "print(df_fitness.mean(), \"\\n\")\n",
    "# ax = df_fitness.plot(kind=\"box\", ylabel=\"Fitness\")\n",
    "\n",
    "print(\"Mean conflicts\")\n",
    "print(df_conflicts.mean(), \"\\n\")\n",
    "# df_conflicts.plot(kind=\"box\", ylabel=\"Conflicts\", ax=ax)\n",
    "\n",
    "print(\"Solution Found\")\n",
    "print(df_solution.agg(\"sum\")/100, \"\\n\")\n",
    "\n",
    "print(\"Mean Best Generation\")\n",
    "print(df_best_generation.mean())"
   ]
  },
  {
   "cell_type": "code",
   "execution_count": 24,
   "metadata": {},
   "outputs": [
    {
     "data": {
      "text/plain": [
       "<AxesSubplot:title={'center':'Best Generation'}>"
      ]
     },
     "execution_count": 24,
     "metadata": {},
     "output_type": "execute_result"
    },
    {
     "data": {
      "image/png": "[encoded data removed]",
      "text/plain": [
       "<Figure size 576x288 with 3 Axes>"
      ]
     },
     "metadata": {
      "needs_background": "light"
     },
     "output_type": "display_data"
    }
   ],
   "source": [
    "f, axs = plt.subplots(1, 3, figsize=(8, 4))\n",
    "\n",
    "axs[0].set_title(\"Fitness\")\n",
    "sns.boxplot(data=df_fitness, ax=axs[0])\n",
    "\n",
    "axs[1].set_title(\"Conflicts\")\n",
    "sns.boxplot(data=df_conflicts, ax=axs[1])\n",
    "\n",
    "axs[2].set_title(\"Best Generation\")\n",
    "sns.boxplot(data=df_best_generation, ax=axs[2])"
   ]
  },
  {
   "cell_type": "code",
   "execution_count": 27,
   "metadata": {},
   "outputs": [
    {
     "data": {
      "text/plain": [
       "<matplotlib.legend.Legend at 0x1b82ff35870>"
      ]
     },
     "execution_count": 27,
     "metadata": {},
     "output_type": "execute_result"
    },
    {
     "data": {
      "image/png": "[encoded data removed]",
      "text/plain": [
       "<Figure size 432x288 with 1 Axes>"
      ]
     },
     "metadata": {
      "needs_background": "light"
     },
     "output_type": "display_data"
    }
   ],
   "source": [
    "data_naive = np.genfromtxt(os.path.join(exp_dir, naive_exp, f\"{naive_exp}_fitness\"), delimiter=',')\n",
    "data_custom = np.genfromtxt(os.path.join(exp_dir, custom_exp, f\"{custom_exp}_fitness\"), delimiter=',')\n",
    "data_anealing = np.genfromtxt(os.path.join(exp_dir, anealing_exp, f\"{anealing_exp}_fitness\"), delimiter=',')\n",
    "\n",
    "fig, ax = plt.subplots()\n",
    "ax.set(title='Mean fitness through runs', xlabel='Generation', ylabel='Fitness')\n",
    "\n",
    "_ = ax.plot(range(1, data_naive.shape[1]+1), data_naive.mean(axis=0), label=\"naive\")\n",
    "_ = ax.plot(range(1, data_custom.shape[1]+1), data_custom.mean(axis=0), label=\"custom\")\n",
    "_ = ax.plot(range(1, data_anealing.shape[1]+1), data_anealing.mean(axis=0), label=\"anealing\")\n",
    "\n",
    "ax.legend()\n",
    "\n",
    "# fig.savefig(os.path.join(experiment_dir, fit_plot_fout_name))"
   ]
  }
 ],
 "metadata": {
  "interpreter": {
   "hash": "29675b7690afb191f62bcacca8034eafb70a290a5f108edebda2f74847821f89"
  },
  "kernelspec": {
   "display_name": "Python 3.10.4 ('evo')",
   "language": "python",
   "name": "python3"
  },
  "language_info": {
   "codemirror_mode": {
    "name": "ipython",
    "version": 3
   },
   "file_extension": ".py",
   "mimetype": "text/x-python",
   "name": "python",
   "nbconvert_exporter": "python",
   "pygments_lexer": "ipython3",
   "version": "3.10.4"
  },
  "orig_nbformat": 4
 },
 "nbformat": 4,
 "nbformat_minor": 2
}
